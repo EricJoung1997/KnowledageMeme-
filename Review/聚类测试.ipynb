{
 "metadata": {
  "language_info": {
   "codemirror_mode": {
    "name": "ipython",
    "version": 3
   },
   "file_extension": ".py",
   "mimetype": "text/x-python",
   "name": "python",
   "nbconvert_exporter": "python",
   "pygments_lexer": "ipython3",
   "version": "3.6.6-final"
  },
  "orig_nbformat": 2,
  "kernelspec": {
   "name": "python3",
   "display_name": "Python 3.6.6 64-bit",
   "metadata": {
    "interpreter": {
     "hash": "ea1d30b81493ad4e83832c30fd2d1afdd89257e8ee88b0c08169d2ce4111f838"
    }
   }
  }
 },
 "nbformat": 4,
 "nbformat_minor": 2,
 "cells": [
  {
   "cell_type": "code",
   "execution_count": 9,
   "metadata": {},
   "outputs": [],
   "source": [
    "import pandas as pd\n",
    "import random "
   ]
  },
  {
   "cell_type": "code",
   "execution_count": 10,
   "metadata": {},
   "outputs": [],
   "source": [
    "mydata=pd.read_excel('E:\\Python\\python_code\\KnowledgeMeme\\ReviewAndRecommend\\Review\\有标签的知识基因.xlsx',sheet_name='所有')"
   ]
  },
  {
   "cell_type": "code",
   "execution_count": 11,
   "metadata": {},
   "outputs": [],
   "source": [
    "mm=mydata[['subject','action','object']].values.tolist()\n",
    "mmm=[]\n",
    "for i in mm :\n",
    "    mmm.append([str(x) for x in i])"
   ]
  },
  {
   "cell_type": "code",
   "execution_count": 16,
   "metadata": {},
   "outputs": [],
   "source": [
    "# mmm"
   ]
  },
  {
   "cell_type": "code",
   "execution_count": 12,
   "metadata": {},
   "outputs": [
    {
     "output_type": "execute_result",
     "data": {
      "text/plain": [
       "61786"
      ]
     },
     "metadata": {},
     "execution_count": 12
    }
   ],
   "source": [
    "len(mmm)"
   ]
  },
  {
   "cell_type": "code",
   "execution_count": 17,
   "metadata": {},
   "outputs": [],
   "source": [
    "from LDA import genlda\n",
    "# textlist=map(str, data.values.tolist())\n",
    "kk=genlda(mmm,8)#聚类数量：6\n",
    "label=[]\n",
    "# print(label)\n",
    "# 取出每一个的Label\n",
    "for i in kk:\n",
    "    label.append(i[1])"
   ]
  },
  {
   "cell_type": "code",
   "execution_count": 18,
   "metadata": {},
   "outputs": [],
   "source": [
    "mydata['label']=label"
   ]
  },
  {
   "cell_type": "code",
   "execution_count": 19,
   "metadata": {},
   "outputs": [],
   "source": [
    "mydata.to_excel('8个聚类结果_知识基因.xlsx')"
   ]
  },
  {
   "source": [
    "# 映射测试"
   ],
   "cell_type": "markdown",
   "metadata": {}
  },
  {
   "cell_type": "code",
   "execution_count": null,
   "metadata": {},
   "outputs": [],
   "source": [
    "#去除词典中没有的词\n",
    "def NotInDir(SAOlist):     #SAOlist为清理后的三元组\n",
    "        print('正在遍历词典......')\n",
    "        f = open(mypath + \"\\dictionary\\Dir.txt\",encoding='utf-8')\n",
    "        Dir3=f.read().split(\"\\n\")    #Dir为词典\n",
    "        New_SAO=[]\n",
    "        for i in range(0,len(SAOlist)) :\n",
    "            # print(SAO[dr])\n",
    "            if (SAOlist[i][0] in Dir3) or (SAOlist[i][1] in Dir3) or (SAOlist[i][2] in Dir3) : #Subject或Object在词典中就保留\n",
    "                New_SAO.append(SAOlist[i])\n",
    "        print('词典遍历成功！共有{n}条知识基因'.format(n=len(New_SAO)))   \n",
    "        #去重\n",
    "#         New_SAO_clean = []\n",
    "#         for id in New_SAO:\n",
    "#             if id not in New_SAO_clean:\n",
    "#                 New_SAO_clean.append(id)\n",
    "#         print('去重成功！共有{n}条知识基因'.format(n=len(New_SAO_clean)))\n",
    "        return New_SAO"
   ]
  }
 ]
}